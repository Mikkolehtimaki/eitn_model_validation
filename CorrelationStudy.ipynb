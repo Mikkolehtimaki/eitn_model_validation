{
 "cells": [
  {
   "cell_type": "code",
   "execution_count": 83,
   "metadata": {},
   "outputs": [],
   "source": [
    "import numpy as np\n",
    "import quantities as pq\n",
    "import elephant\n",
    "from elephant.statistics import isi\n",
    "#import vizi\n",
    "#import misc\n",
    "import matplotlib.pyplot as plt\n",
    "import neo\n",
    "import seaborn as sns\n",
    "%matplotlib inline\n",
    "\n",
    "from elephant.conversion import BinnedSpikeTrain\n",
    "from quantities import Hz, s, ms\n",
    "\n",
    "from scipy import stats\n",
    "import matplotlib.colors as colors"
   ]
  },
  {
   "cell_type": "code",
   "execution_count": 49,
   "metadata": {},
   "outputs": [],
   "source": [
    "def ProcessSelfCorr(data):\n",
    "    corr = elephant.spike_train_correlation.corrcoef(BinnedSpikeTrain(data[:], binsize=100*ms))\n",
    "    x = corr[np.tril_indices(corr.shape[0])]\n",
    "    return x"
   ]
  },
  {
   "cell_type": "code",
   "execution_count": 52,
   "metadata": {},
   "outputs": [],
   "source": [
    "data1 = np.load('data/data1.npy')\n",
    "data2 = np.load('data/data2.npy')\n",
    "data3 = np.load('data/data3.npy')\n",
    "data4 = np.load('data/data4.npy')\n",
    "data5 = np.load('data/data5.npy')\n",
    "data6 = np.load('data/data6.npy')\n",
    "\n",
    "p1 = ProcessSelfCorr(data1)\n",
    "p2 = ProcessSelfCorr(data2)\n",
    "p3 = ProcessSelfCorr(data3)\n",
    "p4 = ProcessSelfCorr(data4)\n",
    "p5 = ProcessSelfCorr(data5)\n",
    "p6 = ProcessSelfCorr(data6)"
   ]
  },
  {
   "cell_type": "code",
   "execution_count": 64,
   "metadata": {},
   "outputs": [
    {
     "data": {
      "image/png": "[encoded data removed]",
      "text/plain": [
       "<Figure size 432x288 with 1 Axes>"
      ]
     },
     "metadata": {},
     "output_type": "display_data"
    }
   ],
   "source": [
    "bins = np.arange(-.3, .3, 0.01)\n",
    "\n",
    "plt.hist(p1, bins=bins, histtype='step', lw=2, label='data 1', density=True)\n",
    "plt.hist(p2, bins=bins, histtype='step', lw=2, label='data 2', density=True)\n",
    "plt.hist(p3, bins=bins, histtype='step', lw=2, label='data 3', density=True)\n",
    "plt.hist(p4, bins=bins, histtype='step', lw=2, label='data 4', density=True)\n",
    "plt.hist(p5, bins=bins, histtype='step', lw=2, label='data 5', density=True)\n",
    "plt.hist(p6, bins=bins, histtype='step', lw=2, label='data 6', density=True)\n",
    "plt.legend(loc='best')\n",
    "plt.show()"
   ]
  },
  {
   "cell_type": "code",
   "execution_count": 75,
   "metadata": {},
   "outputs": [],
   "source": [
    "dists = [p1,p2,p3,p4,p5,p6]\n",
    "\n",
    "Res = np.zeros((len(dists), len(dists)))\n",
    "for i in range(len(dists)):\n",
    "    for j in range(len(dists)):\n",
    "        Res[i,j] = stats.ks_2samp(dists[i], dists[j])[1]"
   ]
  },
  {
   "cell_type": "code",
   "execution_count": 88,
   "metadata": {},
   "outputs": [
    {
     "data": {
      "text/plain": [
       "<matplotlib.image.AxesImage at 0x1097b5050>"
      ]
     },
     "execution_count": 88,
     "metadata": {},
     "output_type": "execute_result"
    },
    {
     "data": {
      "image/png": "[encoded data removed]",
      "text/plain": [
       "<Figure size 288x288 with 1 Axes>"
      ]
     },
     "metadata": {},
     "output_type": "display_data"
    }
   ],
   "source": [
    "plt.matshow(Res, )"
   ]
  },
  {
   "cell_type": "code",
   "execution_count": 93,
   "metadata": {},
   "outputs": [
    {
     "data": {
      "text/plain": [
       "array([[1.00000000e+000, 6.21126005e-168, 3.78222274e-014,\n",
       "        0.00000000e+000, 0.00000000e+000, 1.75517609e-070],\n",
       "       [6.21126005e-168, 1.00000000e+000, 4.92552806e-092,\n",
       "        2.10718788e-042, 3.19128856e-040, 8.40800230e-026],\n",
       "       [3.78222274e-014, 4.92552806e-092, 1.00000000e+000,\n",
       "        7.66610575e-243, 1.04804193e-234, 4.88409055e-024],\n",
       "       [0.00000000e+000, 2.10718788e-042, 7.66610575e-243,\n",
       "        1.00000000e+000, 8.19316478e-001, 4.19447195e-128],\n",
       "       [0.00000000e+000, 3.19128856e-040, 1.04804193e-234,\n",
       "        8.19316478e-001, 1.00000000e+000, 1.46457024e-122],\n",
       "       [1.75517609e-070, 8.40800230e-026, 4.88409055e-024,\n",
       "        4.19447195e-128, 1.46457024e-122, 1.00000000e+000]])"
      ]
     },
     "execution_count": 93,
     "metadata": {},
     "output_type": "execute_result"
    }
   ],
   "source": [
    "Res"
   ]
  },
  {
   "cell_type": "code",
   "execution_count": null,
   "metadata": {},
   "outputs": [],
   "source": []
  }
 ],
 "metadata": {
  "kernelspec": {
   "display_name": "Python 2",
   "language": "python",
   "name": "python2"
  },
  "language_info": {
   "codemirror_mode": {
    "name": "ipython",
    "version": 2
   },
   "file_extension": ".py",
   "mimetype": "text/x-python",
   "name": "python",
   "nbconvert_exporter": "python",
   "pygments_lexer": "ipython2",
   "version": "2.7.14"
  }
 },
 "nbformat": 4,
 "nbformat_minor": 2
}
